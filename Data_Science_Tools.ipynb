{
  "nbformat": 4,
  "nbformat_minor": 0,
  "metadata": {
    "colab": {
      "provenance": [],
      "toc_visible": true
    },
    "kernelspec": {
      "name": "python3",
      "display_name": "Python 3"
    },
    "language_info": {
      "name": "python"
    }
  },
  "cells": [
    {
      "cell_type": "markdown",
      "source": [
        "# **Data Science Tools and Ecosystem**"
      ],
      "metadata": {
        "id": "PoYBoIuolfJL"
      }
    },
    {
      "cell_type": "markdown",
      "source": [
        "## Introduction\n",
        "\n",
        "This notebook provides an overview of the Data Science Tools and Ecosystem.  \n",
        "It summarizes some of the most commonly used languages, libraries, and tools in the field of data science.  \n",
        "Additionally, it includes simple examples of arithmetic expressions and basic data manipulation tasks that are often performed by data scientists.  \n",
        "By the end of this notebook, you will have a clearer understanding of the core components that make up the data science environment.\n"
      ],
      "metadata": {
        "id": "n_MHK37cltMx"
      }
    },
    {
      "cell_type": "markdown",
      "source": [
        "## Data Science Languages\n",
        "Some of the popular languages that Data Scientists use are:\n",
        "\n",
        "**1.** Python  \n",
        "**2.** R  \n",
        "**3.** SQL  \n",
        "**4.** Julia  \n",
        "**5.** Scala\n"
      ],
      "metadata": {
        "id": "jkqorn_7lz_A"
      }
    },
    {
      "cell_type": "markdown",
      "source": [
        "## Data Science Libraries\n",
        "Some of the commonly used libraries by Data Scientists include:\n",
        "1. Pandas  \n",
        "2. NumPy  \n",
        "3. Matplotlib  \n",
        "4. Scikit-learn  \n",
        "5. TensorFlow  \n",
        "6. PyTorch\n"
      ],
      "metadata": {
        "id": "RgTarZ5nl4b8"
      }
    },
    {
      "cell_type": "markdown",
      "source": [
        "## Data Science Tools\n",
        "\n",
        "| Category | Tool Name |\n",
        "|-----------|------------|\n",
        "| IDE | Jupyter Notebook |\n",
        "| IDE | RStudio |\n",
        "| Data Visualization | Tableau |\n",
        "| Big Data | Apache Spark |\n",
        "| Machine Learning | TensorFlow |\n"
      ],
      "metadata": {
        "id": "g8pUK3eMl6A8"
      }
    },
    {
      "cell_type": "markdown",
      "source": [
        "### Examples of Arithmetic Expressions\n",
        "Below are examples of simple arithmetic expressions to perform basic math operations.\n"
      ],
      "metadata": {
        "id": "4dQmYRSbl9Uq"
      }
    },
    {
      "cell_type": "code",
      "source": [
        "# This expression multiplies two numbers and adds another number\n",
        "(3 * 4) + 5"
      ],
      "metadata": {
        "colab": {
          "base_uri": "https://localhost:8080/"
        },
        "id": "s-cJkoy5mCWI",
        "outputId": "8b3a9c23-28b7-4fbb-bcf4-5276e6ca0272"
      },
      "execution_count": null,
      "outputs": [
        {
          "output_type": "execute_result",
          "data": {
            "text/plain": [
              "17"
            ]
          },
          "metadata": {},
          "execution_count": 1
        }
      ]
    },
    {
      "cell_type": "code",
      "source": [
        "# This will convert 200 minutes to hours\n",
        "minutes = 200\n",
        "hours = minutes / 60\n",
        "hours"
      ],
      "metadata": {
        "colab": {
          "base_uri": "https://localhost:8080/"
        },
        "id": "e9HJ-hAWmGsc",
        "outputId": "d83ee6a5-82c6-446a-d8f2-9a9dc0c34c86"
      },
      "execution_count": null,
      "outputs": [
        {
          "output_type": "execute_result",
          "data": {
            "text/plain": [
              "3.3333333333333335"
            ]
          },
          "metadata": {},
          "execution_count": 2
        }
      ]
    },
    {
      "cell_type": "markdown",
      "source": [
        "## Objectives\n",
        "- List popular languages for Data Science\n",
        "- Identify commonly used libraries\n",
        "- Describe Data Science tools\n",
        "- Perform basic arithmetic expressions\n",
        "- Convert units of time from minutes to hours\n"
      ],
      "metadata": {
        "id": "bIFCN6WOmAE9"
      }
    },
    {
      "cell_type": "markdown",
      "source": [
        "## Author\n",
        "**Aline Andrade**\n"
      ],
      "metadata": {
        "id": "D6V03w8HmTUY"
      }
    }
  ]
}